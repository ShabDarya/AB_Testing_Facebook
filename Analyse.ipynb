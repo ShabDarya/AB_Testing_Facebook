{
 "cells": [
  {
   "cell_type": "markdown",
   "id": "d14c42ba",
   "metadata": {},
   "source": [
    "Facebook недавно представил новую систему ставок под названием «средняя ставка» (тестовая группа) наряду с существующей системой «максимальная ставка» (контрольная группа). Эти системы ставок определяют, какие объявления будут отображаться пользователям, в зависимости от того, сколько рекламодатели готовы платить.\n",
    "\n",
    "При «максимальной ставке» рекламодатели указывают максимальную сумму, которую они готовы платить за каждый показ. Например, рекламодатель может сказать: «Я готов платить максимум 10 долларов за каждый показ».\n",
    "\n",
    "При «средней ставке» рекламодатели указывают среднюю сумму, которую они готовы платить за показы. Например, они могут сказать: «В среднем я готов платить 6 долларов за каждый показ».\n",
    "\n",
    "Вот ключевой момент: в этом наборе данных мы собрали результаты этих двух стратегий назначения ставок за последние 40 дней, чтобы увидеть, какая из них более эффективна для показа рекламы целевой аудитории.\n",
    "\n",
    "Как дальновидная компания, готовая произвести фурор в сфере рекламы на Facebook, мы ставим перед собой задачу найти наиболее выгодный подход для нашего бренда. Наши животрепещущие вопросы:\n",
    "\n",
    "1. Увеличение количества кликов и покупок. Какая стратегия поможет нам достичь нашей цели — резкого увеличения количества кликов и покупок?\n",
    "2. Битва Титанов: есть ли заметная и статистически значимая разница между двумя вариантами ставок?\n",
    "\n",
    "Примите участие в тесте AB: сегодня мы отправляемся в путь открытий, основанных на данных, где столкновение титанов — средняя ставка против максимальной ставки — будет тщательно анализироваться и оцениваться. Мы находимся в поисках идей, которые определят будущее нашей рекламной стратегии Facebook, используя данные как компас, а инновации как наше оружие.\n",
    "\n",
    "Результаты этого AB-теста не только ответят на наши вопросы, но и станут предвестником славной эпохи в нашей рекламной деятельности в Facebook. Следите за трансформацией, которая оставит след в сфере цифровой рекламы."
   ]
  },
  {
   "cell_type": "code",
   "execution_count": 1,
   "id": "2b83f500",
   "metadata": {},
   "outputs": [],
   "source": [
    "import pandas as pd\n",
    "import numpy as np\n",
    "import matplotlib.pyplot as plt\n",
    "import statsmodels.api as sm"
   ]
  },
  {
   "cell_type": "code",
   "execution_count": 2,
   "id": "6643b754",
   "metadata": {},
   "outputs": [],
   "source": [
    "c_df = pd.read_csv(\"control_group.csv\") #Читаем файл контрольной группы (максимальная ставка)"
   ]
  },
  {
   "cell_type": "code",
   "execution_count": 3,
   "id": "292369b5",
   "metadata": {},
   "outputs": [],
   "source": [
    "t_df = pd.read_csv(\"test_group.csv\") #Читаем файл тестовой группы (средняя ставка)"
   ]
  },
  {
   "cell_type": "code",
   "execution_count": 4,
   "id": "98634303",
   "metadata": {},
   "outputs": [
    {
     "name": "stdout",
     "output_type": "stream",
     "text": [
      "<class 'pandas.core.frame.DataFrame'>\n",
      "RangeIndex: 40 entries, 0 to 39\n",
      "Data columns (total 4 columns):\n",
      " #   Column      Non-Null Count  Dtype\n",
      "---  ------      --------------  -----\n",
      " 0   Impression  40 non-null     int64\n",
      " 1   Click       40 non-null     int64\n",
      " 2   Purchase    40 non-null     int64\n",
      " 3   Earning     40 non-null     int64\n",
      "dtypes: int64(4)\n",
      "memory usage: 1.4 KB\n"
     ]
    }
   ],
   "source": [
    "c_df.info()"
   ]
  },
  {
   "cell_type": "code",
   "execution_count": 5,
   "id": "556b9ad4",
   "metadata": {},
   "outputs": [
    {
     "name": "stdout",
     "output_type": "stream",
     "text": [
      "<class 'pandas.core.frame.DataFrame'>\n",
      "RangeIndex: 40 entries, 0 to 39\n",
      "Data columns (total 4 columns):\n",
      " #   Column      Non-Null Count  Dtype\n",
      "---  ------      --------------  -----\n",
      " 0   Impression  40 non-null     int64\n",
      " 1   Click       40 non-null     int64\n",
      " 2   Purchase    40 non-null     int64\n",
      " 3   Earning     40 non-null     int64\n",
      "dtypes: int64(4)\n",
      "memory usage: 1.4 KB\n"
     ]
    }
   ],
   "source": [
    "t_df.info()"
   ]
  },
  {
   "cell_type": "code",
   "execution_count": 6,
   "id": "fa8e6b0b",
   "metadata": {},
   "outputs": [
    {
     "data": {
      "text/html": [
       "<div>\n",
       "<style scoped>\n",
       "    .dataframe tbody tr th:only-of-type {\n",
       "        vertical-align: middle;\n",
       "    }\n",
       "\n",
       "    .dataframe tbody tr th {\n",
       "        vertical-align: top;\n",
       "    }\n",
       "\n",
       "    .dataframe thead th {\n",
       "        text-align: right;\n",
       "    }\n",
       "</style>\n",
       "<table border=\"1\" class=\"dataframe\">\n",
       "  <thead>\n",
       "    <tr style=\"text-align: right;\">\n",
       "      <th></th>\n",
       "      <th>Impression</th>\n",
       "      <th>Click</th>\n",
       "      <th>Purchase</th>\n",
       "      <th>Earning</th>\n",
       "    </tr>\n",
       "  </thead>\n",
       "  <tbody>\n",
       "    <tr>\n",
       "      <th>0</th>\n",
       "      <td>82529</td>\n",
       "      <td>6090</td>\n",
       "      <td>665</td>\n",
       "      <td>2311</td>\n",
       "    </tr>\n",
       "    <tr>\n",
       "      <th>1</th>\n",
       "      <td>98050</td>\n",
       "      <td>3383</td>\n",
       "      <td>315</td>\n",
       "      <td>1743</td>\n",
       "    </tr>\n",
       "    <tr>\n",
       "      <th>2</th>\n",
       "      <td>82696</td>\n",
       "      <td>4168</td>\n",
       "      <td>458</td>\n",
       "      <td>1798</td>\n",
       "    </tr>\n",
       "    <tr>\n",
       "      <th>3</th>\n",
       "      <td>109914</td>\n",
       "      <td>4911</td>\n",
       "      <td>487</td>\n",
       "      <td>1696</td>\n",
       "    </tr>\n",
       "    <tr>\n",
       "      <th>4</th>\n",
       "      <td>108458</td>\n",
       "      <td>5988</td>\n",
       "      <td>441</td>\n",
       "      <td>1544</td>\n",
       "    </tr>\n",
       "  </tbody>\n",
       "</table>\n",
       "</div>"
      ],
      "text/plain": [
       "   Impression  Click  Purchase  Earning\n",
       "0       82529   6090       665     2311\n",
       "1       98050   3383       315     1743\n",
       "2       82696   4168       458     1798\n",
       "3      109914   4911       487     1696\n",
       "4      108458   5988       441     1544"
      ]
     },
     "execution_count": 6,
     "metadata": {},
     "output_type": "execute_result"
    }
   ],
   "source": [
    "c_df.head()"
   ]
  },
  {
   "cell_type": "code",
   "execution_count": 7,
   "id": "5c6c38e8",
   "metadata": {},
   "outputs": [
    {
     "data": {
      "text/html": [
       "<div>\n",
       "<style scoped>\n",
       "    .dataframe tbody tr th:only-of-type {\n",
       "        vertical-align: middle;\n",
       "    }\n",
       "\n",
       "    .dataframe tbody tr th {\n",
       "        vertical-align: top;\n",
       "    }\n",
       "\n",
       "    .dataframe thead th {\n",
       "        text-align: right;\n",
       "    }\n",
       "</style>\n",
       "<table border=\"1\" class=\"dataframe\">\n",
       "  <thead>\n",
       "    <tr style=\"text-align: right;\">\n",
       "      <th></th>\n",
       "      <th>Impression</th>\n",
       "      <th>Click</th>\n",
       "      <th>Purchase</th>\n",
       "      <th>Earning</th>\n",
       "    </tr>\n",
       "  </thead>\n",
       "  <tbody>\n",
       "    <tr>\n",
       "      <th>0</th>\n",
       "      <td>120104</td>\n",
       "      <td>3217</td>\n",
       "      <td>702</td>\n",
       "      <td>1940</td>\n",
       "    </tr>\n",
       "    <tr>\n",
       "      <th>1</th>\n",
       "      <td>134776</td>\n",
       "      <td>3635</td>\n",
       "      <td>834</td>\n",
       "      <td>2929</td>\n",
       "    </tr>\n",
       "    <tr>\n",
       "      <th>2</th>\n",
       "      <td>107807</td>\n",
       "      <td>3057</td>\n",
       "      <td>423</td>\n",
       "      <td>2526</td>\n",
       "    </tr>\n",
       "    <tr>\n",
       "      <th>3</th>\n",
       "      <td>116445</td>\n",
       "      <td>4650</td>\n",
       "      <td>429</td>\n",
       "      <td>2281</td>\n",
       "    </tr>\n",
       "    <tr>\n",
       "      <th>4</th>\n",
       "      <td>145083</td>\n",
       "      <td>5201</td>\n",
       "      <td>750</td>\n",
       "      <td>2782</td>\n",
       "    </tr>\n",
       "  </tbody>\n",
       "</table>\n",
       "</div>"
      ],
      "text/plain": [
       "   Impression  Click  Purchase  Earning\n",
       "0      120104   3217       702     1940\n",
       "1      134776   3635       834     2929\n",
       "2      107807   3057       423     2526\n",
       "3      116445   4650       429     2281\n",
       "4      145083   5201       750     2782"
      ]
     },
     "execution_count": 7,
     "metadata": {},
     "output_type": "execute_result"
    }
   ],
   "source": [
    "t_df.head()"
   ]
  },
  {
   "cell_type": "markdown",
   "id": "059082d6",
   "metadata": {},
   "source": [
    "Impression - количество показов одной рекламы                                   \n",
    "Click - количество кликов на рекламе                                   \n",
    "Purchase - количество товаров, купленных после рекламы                                   \n",
    "Earning - заработок после покупки                                   "
   ]
  },
  {
   "cell_type": "markdown",
   "id": "b1e1e147",
   "metadata": {},
   "source": [
    "## Очистка и проверка данных"
   ]
  },
  {
   "cell_type": "code",
   "execution_count": 18,
   "id": "3e29fd99",
   "metadata": {},
   "outputs": [
    {
     "data": {
      "text/plain": [
       "Impression    0\n",
       "Click         0\n",
       "Purchase      0\n",
       "Earning       0\n",
       "dtype: int64"
      ]
     },
     "execution_count": 18,
     "metadata": {},
     "output_type": "execute_result"
    }
   ],
   "source": [
    "c_df.isna().sum()"
   ]
  },
  {
   "cell_type": "code",
   "execution_count": 19,
   "id": "cbb8a394",
   "metadata": {},
   "outputs": [
    {
     "data": {
      "text/plain": [
       "Impression    0\n",
       "Click         0\n",
       "Purchase      0\n",
       "Earning       0\n",
       "dtype: int64"
      ]
     },
     "execution_count": 19,
     "metadata": {},
     "output_type": "execute_result"
    }
   ],
   "source": [
    "t_df.isna().sum()"
   ]
  },
  {
   "cell_type": "markdown",
   "id": "5ff1c4a5",
   "metadata": {},
   "source": [
    "Пустых данных нет"
   ]
  },
  {
   "cell_type": "markdown",
   "id": "bec353f8",
   "metadata": {},
   "source": [
    "### Количество показов "
   ]
  },
  {
   "cell_type": "code",
   "execution_count": 38,
   "id": "103e8c05",
   "metadata": {},
   "outputs": [
    {
     "data": {
      "text/html": [
       "<div>\n",
       "<style scoped>\n",
       "    .dataframe tbody tr th:only-of-type {\n",
       "        vertical-align: middle;\n",
       "    }\n",
       "\n",
       "    .dataframe tbody tr th {\n",
       "        vertical-align: top;\n",
       "    }\n",
       "\n",
       "    .dataframe thead th {\n",
       "        text-align: right;\n",
       "    }\n",
       "</style>\n",
       "<table border=\"1\" class=\"dataframe\">\n",
       "  <thead>\n",
       "    <tr style=\"text-align: right;\">\n",
       "      <th></th>\n",
       "      <th>count</th>\n",
       "      <th>mean</th>\n",
       "      <th>std</th>\n",
       "      <th>min</th>\n",
       "      <th>25%</th>\n",
       "      <th>50%</th>\n",
       "      <th>75%</th>\n",
       "      <th>max</th>\n",
       "    </tr>\n",
       "  </thead>\n",
       "  <tbody>\n",
       "    <tr>\n",
       "      <th>control</th>\n",
       "      <td>40.0</td>\n",
       "      <td>101711.450</td>\n",
       "      <td>20302.122984</td>\n",
       "      <td>45476.0</td>\n",
       "      <td>85726.75</td>\n",
       "      <td>99790.5</td>\n",
       "      <td>115212.50</td>\n",
       "      <td>147539.0</td>\n",
       "    </tr>\n",
       "    <tr>\n",
       "      <th>data</th>\n",
       "      <td>40.0</td>\n",
       "      <td>120512.425</td>\n",
       "      <td>18807.466616</td>\n",
       "      <td>79034.0</td>\n",
       "      <td>112692.25</td>\n",
       "      <td>119291.5</td>\n",
       "      <td>132050.75</td>\n",
       "      <td>158606.0</td>\n",
       "    </tr>\n",
       "  </tbody>\n",
       "</table>\n",
       "</div>"
      ],
      "text/plain": [
       "         count        mean           std      min        25%       50%  \\\n",
       "control   40.0  101711.450  20302.122984  45476.0   85726.75   99790.5   \n",
       "data      40.0  120512.425  18807.466616  79034.0  112692.25  119291.5   \n",
       "\n",
       "               75%       max  \n",
       "control  115212.50  147539.0  \n",
       "data     132050.75  158606.0  "
      ]
     },
     "execution_count": 38,
     "metadata": {},
     "output_type": "execute_result"
    }
   ],
   "source": [
    "pd.DataFrame([c_df.Impression.describe(), t_df.Impression.describe()], index=['control', 'test'])"
   ]
  },
  {
   "cell_type": "code",
   "execution_count": 78,
   "id": "eeb5cc72",
   "metadata": {},
   "outputs": [
    {
     "data": {
      "image/png": "[encoded data removed]",
      "text/plain": [
       "<Figure size 640x480 with 1 Axes>"
      ]
     },
     "metadata": {},
     "output_type": "display_data"
    }
   ],
   "source": [
    "plt.hist([c_df.Impression, t_df.Impression], bins=20)\n",
    "plt.show()"
   ]
  },
  {
   "cell_type": "code",
   "execution_count": 30,
   "id": "beed9ffd",
   "metadata": {},
   "outputs": [
    {
     "data": {
      "image/png": "[encoded data removed]",
      "text/plain": [
       "<Figure size 640x480 with 1 Axes>"
      ]
     },
     "metadata": {},
     "output_type": "display_data"
    }
   ],
   "source": [
    "plt.boxplot([c_df.Impression, t_df.Impression], labels=['control', 'test'])\n",
    "plt.show()"
   ]
  },
  {
   "cell_type": "markdown",
   "id": "750e2b3f",
   "metadata": {},
   "source": [
    "У тестовой группы есть выбросы! Также по графикам можно увидеть, что размах количества показов у тестовой группы меньше, медиана больше."
   ]
  },
  {
   "cell_type": "code",
   "execution_count": 54,
   "id": "8912c538",
   "metadata": {},
   "outputs": [],
   "source": [
    "q3, q1 = np.percentile(t_df.Impression, [75, 25])\n",
    "iqr = q3 - q1"
   ]
  },
  {
   "cell_type": "code",
   "execution_count": 55,
   "id": "f4c59919",
   "metadata": {},
   "outputs": [
    {
     "name": "stdout",
     "output_type": "stream",
     "text": [
      "Нижняя граница: 83654.5\n"
     ]
    }
   ],
   "source": [
    "low_range = q1 - 1.5 * iqr\n",
    "print(f'Нижняя граница: {low_range}')"
   ]
  },
  {
   "cell_type": "code",
   "execution_count": 60,
   "id": "e26feb3e",
   "metadata": {},
   "outputs": [
    {
     "data": {
      "text/plain": [
       "17    83357\n",
       "35    79235\n",
       "38    79034\n",
       "Name: Impression, dtype: int64"
      ]
     },
     "execution_count": 60,
     "metadata": {},
     "output_type": "execute_result"
    }
   ],
   "source": [
    "t_df[t_df.Impression < low_range].Impression"
   ]
  },
  {
   "cell_type": "code",
   "execution_count": 61,
   "id": "03170a40",
   "metadata": {},
   "outputs": [
    {
     "data": {
      "text/plain": [
       "17   -0.246863\n",
       "35   -3.667257\n",
       "38   -3.834044\n",
       "Name: Impression, dtype: float64"
      ]
     },
     "execution_count": 61,
     "metadata": {},
     "output_type": "execute_result"
    }
   ],
   "source": [
    "(t_df[t_df.Impression < low_range].Impression - low_range) / t_df.Impression.mean() * 100"
   ]
  },
  {
   "cell_type": "markdown",
   "id": "068522bb",
   "metadata": {},
   "source": [
    "Всего в данных 3 выброса из 40. Они отличаются макисмум на -3.8% от среднего значения. Так как эти значения получены во время тестирования, то удалять их не нужно. Так как неизвестно какие именно эти дни тестирования, то может быть выбросы обусловлены другими факторами (праздники, сбои у интернет провайдеров и т.п.).\n",
    "Создадим еще один датафрейм, чтобы проверить, влияют ли выбросы на результаты тестирования."
   ]
  },
  {
   "cell_type": "code",
   "execution_count": 68,
   "id": "d794ea5d",
   "metadata": {},
   "outputs": [
    {
     "data": {
      "text/html": [
       "<div>\n",
       "<style scoped>\n",
       "    .dataframe tbody tr th:only-of-type {\n",
       "        vertical-align: middle;\n",
       "    }\n",
       "\n",
       "    .dataframe tbody tr th {\n",
       "        vertical-align: top;\n",
       "    }\n",
       "\n",
       "    .dataframe thead th {\n",
       "        text-align: right;\n",
       "    }\n",
       "</style>\n",
       "<table border=\"1\" class=\"dataframe\">\n",
       "  <thead>\n",
       "    <tr style=\"text-align: right;\">\n",
       "      <th></th>\n",
       "      <th>Impression</th>\n",
       "      <th>Click</th>\n",
       "      <th>Purchase</th>\n",
       "      <th>Earning</th>\n",
       "    </tr>\n",
       "  </thead>\n",
       "  <tbody>\n",
       "    <tr>\n",
       "      <th>0</th>\n",
       "      <td>120104</td>\n",
       "      <td>3217</td>\n",
       "      <td>702</td>\n",
       "      <td>1940</td>\n",
       "    </tr>\n",
       "    <tr>\n",
       "      <th>1</th>\n",
       "      <td>134776</td>\n",
       "      <td>3635</td>\n",
       "      <td>834</td>\n",
       "      <td>2929</td>\n",
       "    </tr>\n",
       "    <tr>\n",
       "      <th>2</th>\n",
       "      <td>107807</td>\n",
       "      <td>3057</td>\n",
       "      <td>423</td>\n",
       "      <td>2526</td>\n",
       "    </tr>\n",
       "    <tr>\n",
       "      <th>3</th>\n",
       "      <td>116445</td>\n",
       "      <td>4650</td>\n",
       "      <td>429</td>\n",
       "      <td>2281</td>\n",
       "    </tr>\n",
       "    <tr>\n",
       "      <th>4</th>\n",
       "      <td>145083</td>\n",
       "      <td>5201</td>\n",
       "      <td>750</td>\n",
       "      <td>2782</td>\n",
       "    </tr>\n",
       "  </tbody>\n",
       "</table>\n",
       "</div>"
      ],
      "text/plain": [
       "   Impression  Click  Purchase  Earning\n",
       "0      120104   3217       702     1940\n",
       "1      134776   3635       834     2929\n",
       "2      107807   3057       423     2526\n",
       "3      116445   4650       429     2281\n",
       "4      145083   5201       750     2782"
      ]
     },
     "execution_count": 68,
     "metadata": {},
     "output_type": "execute_result"
    }
   ],
   "source": [
    "t1_df = t_df[t_df.Impression >= low_range]\n",
    "t1_df.head()"
   ]
  },
  {
   "cell_type": "code",
   "execution_count": 70,
   "id": "cf7cba02",
   "metadata": {},
   "outputs": [
    {
     "name": "stdout",
     "output_type": "stream",
     "text": [
      "Количество значений без выбросов: 37\n"
     ]
    }
   ],
   "source": [
    "print(f'Количество значений без выбросов: {len(t1_df)}')"
   ]
  },
  {
   "cell_type": "markdown",
   "id": "4453beec",
   "metadata": {},
   "source": [
    "### Количество кликов"
   ]
  },
  {
   "cell_type": "code",
   "execution_count": 37,
   "id": "25f6efb3",
   "metadata": {},
   "outputs": [
    {
     "data": {
      "text/html": [
       "<div>\n",
       "<style scoped>\n",
       "    .dataframe tbody tr th:only-of-type {\n",
       "        vertical-align: middle;\n",
       "    }\n",
       "\n",
       "    .dataframe tbody tr th {\n",
       "        vertical-align: top;\n",
       "    }\n",
       "\n",
       "    .dataframe thead th {\n",
       "        text-align: right;\n",
       "    }\n",
       "</style>\n",
       "<table border=\"1\" class=\"dataframe\">\n",
       "  <thead>\n",
       "    <tr style=\"text-align: right;\">\n",
       "      <th></th>\n",
       "      <th>count</th>\n",
       "      <th>mean</th>\n",
       "      <th>std</th>\n",
       "      <th>min</th>\n",
       "      <th>25%</th>\n",
       "      <th>50%</th>\n",
       "      <th>75%</th>\n",
       "      <th>max</th>\n",
       "    </tr>\n",
       "  </thead>\n",
       "  <tbody>\n",
       "    <tr>\n",
       "      <th>control</th>\n",
       "      <td>40.0</td>\n",
       "      <td>101711.450</td>\n",
       "      <td>20302.122984</td>\n",
       "      <td>45476.0</td>\n",
       "      <td>85726.75</td>\n",
       "      <td>99790.5</td>\n",
       "      <td>115212.50</td>\n",
       "      <td>147539.0</td>\n",
       "    </tr>\n",
       "    <tr>\n",
       "      <th>data</th>\n",
       "      <td>40.0</td>\n",
       "      <td>120512.425</td>\n",
       "      <td>18807.466616</td>\n",
       "      <td>79034.0</td>\n",
       "      <td>112692.25</td>\n",
       "      <td>119291.5</td>\n",
       "      <td>132050.75</td>\n",
       "      <td>158606.0</td>\n",
       "    </tr>\n",
       "  </tbody>\n",
       "</table>\n",
       "</div>"
      ],
      "text/plain": [
       "         count        mean           std      min        25%       50%  \\\n",
       "control   40.0  101711.450  20302.122984  45476.0   85726.75   99790.5   \n",
       "data      40.0  120512.425  18807.466616  79034.0  112692.25  119291.5   \n",
       "\n",
       "               75%       max  \n",
       "control  115212.50  147539.0  \n",
       "data     132050.75  158606.0  "
      ]
     },
     "execution_count": 37,
     "metadata": {},
     "output_type": "execute_result"
    }
   ],
   "source": [
    "pd.DataFrame([c_df.Click.describe(), t_df.Click.describe()], index=['control', 'test'])"
   ]
  },
  {
   "cell_type": "code",
   "execution_count": 80,
   "id": "afc55ac6",
   "metadata": {},
   "outputs": [
    {
     "data": {
      "image/png": "[encoded data removed]",
      "text/plain": [
       "<Figure size 640x480 with 1 Axes>"
      ]
     },
     "metadata": {},
     "output_type": "display_data"
    }
   ],
   "source": [
    "plt.hist([c_df.Click, t_df.Click], bins=20)\n",
    "plt.show()"
   ]
  },
  {
   "cell_type": "code",
   "execution_count": 31,
   "id": "35f9f6cc",
   "metadata": {},
   "outputs": [
    {
     "data": {
      "image/png": "[encoded data removed]",
      "text/plain": [
       "<Figure size 640x480 with 1 Axes>"
      ]
     },
     "metadata": {},
     "output_type": "display_data"
    }
   ],
   "source": [
    "plt.boxplot([c_df.Click, t_df.Click], labels=['control', 'test'])\n",
    "plt.show()"
   ]
  },
  {
   "cell_type": "markdown",
   "id": "5da0c87b",
   "metadata": {},
   "source": [
    "Выбросы отсутствуют, размах и медиана тестовой группы меньше, чем у контрольной. Выбросов нет."
   ]
  },
  {
   "cell_type": "markdown",
   "id": "562fabf6",
   "metadata": {},
   "source": [
    "### Количество покупок "
   ]
  },
  {
   "cell_type": "code",
   "execution_count": 40,
   "id": "2d040dad",
   "metadata": {},
   "outputs": [
    {
     "data": {
      "text/html": [
       "<div>\n",
       "<style scoped>\n",
       "    .dataframe tbody tr th:only-of-type {\n",
       "        vertical-align: middle;\n",
       "    }\n",
       "\n",
       "    .dataframe tbody tr th {\n",
       "        vertical-align: top;\n",
       "    }\n",
       "\n",
       "    .dataframe thead th {\n",
       "        text-align: right;\n",
       "    }\n",
       "</style>\n",
       "<table border=\"1\" class=\"dataframe\">\n",
       "  <thead>\n",
       "    <tr style=\"text-align: right;\">\n",
       "      <th></th>\n",
       "      <th>count</th>\n",
       "      <th>mean</th>\n",
       "      <th>std</th>\n",
       "      <th>min</th>\n",
       "      <th>25%</th>\n",
       "      <th>50%</th>\n",
       "      <th>75%</th>\n",
       "      <th>max</th>\n",
       "    </tr>\n",
       "  </thead>\n",
       "  <tbody>\n",
       "    <tr>\n",
       "      <th>control</th>\n",
       "      <td>40.0</td>\n",
       "      <td>550.90</td>\n",
       "      <td>134.110517</td>\n",
       "      <td>267.0</td>\n",
       "      <td>470.50</td>\n",
       "      <td>531.5</td>\n",
       "      <td>638.00</td>\n",
       "      <td>802.0</td>\n",
       "    </tr>\n",
       "    <tr>\n",
       "      <th>test</th>\n",
       "      <td>40.0</td>\n",
       "      <td>582.05</td>\n",
       "      <td>161.175164</td>\n",
       "      <td>312.0</td>\n",
       "      <td>444.75</td>\n",
       "      <td>551.0</td>\n",
       "      <td>699.75</td>\n",
       "      <td>890.0</td>\n",
       "    </tr>\n",
       "  </tbody>\n",
       "</table>\n",
       "</div>"
      ],
      "text/plain": [
       "         count    mean         std    min     25%    50%     75%    max\n",
       "control   40.0  550.90  134.110517  267.0  470.50  531.5  638.00  802.0\n",
       "test      40.0  582.05  161.175164  312.0  444.75  551.0  699.75  890.0"
      ]
     },
     "execution_count": 40,
     "metadata": {},
     "output_type": "execute_result"
    }
   ],
   "source": [
    "pd.DataFrame([c_df.Purchase.describe(), t_df.Purchase.describe()], index=['control', 'test'])"
   ]
  },
  {
   "cell_type": "code",
   "execution_count": 81,
   "id": "1e586f09",
   "metadata": {},
   "outputs": [
    {
     "data": {
      "image/png": "[encoded data removed]",
      "text/plain": [
       "<Figure size 640x480 with 1 Axes>"
      ]
     },
     "metadata": {},
     "output_type": "display_data"
    }
   ],
   "source": [
    "plt.hist([c_df.Purchase, t_df.Purchase], bins=20)\n",
    "plt.show()"
   ]
  },
  {
   "cell_type": "code",
   "execution_count": 32,
   "id": "a6fe037b",
   "metadata": {},
   "outputs": [
    {
     "data": {
      "image/png": "[encoded data removed]",
      "text/plain": [
       "<Figure size 640x480 with 1 Axes>"
      ]
     },
     "metadata": {},
     "output_type": "display_data"
    }
   ],
   "source": [
    "plt.boxplot([c_df.Purchase, t_df.Purchase], labels=['control', 'test'])\n",
    "plt.show()"
   ]
  },
  {
   "cell_type": "markdown",
   "id": "b97f9deb",
   "metadata": {},
   "source": [
    "Размах тестовой группы больше чем у контрольной, медианы значительно не отличаются. Выбросов нет."
   ]
  },
  {
   "cell_type": "markdown",
   "id": "0809f869",
   "metadata": {},
   "source": [
    "### Заработок"
   ]
  },
  {
   "cell_type": "code",
   "execution_count": 42,
   "id": "f63934ec",
   "metadata": {},
   "outputs": [
    {
     "data": {
      "text/html": [
       "<div>\n",
       "<style scoped>\n",
       "    .dataframe tbody tr th:only-of-type {\n",
       "        vertical-align: middle;\n",
       "    }\n",
       "\n",
       "    .dataframe tbody tr th {\n",
       "        vertical-align: top;\n",
       "    }\n",
       "\n",
       "    .dataframe thead th {\n",
       "        text-align: right;\n",
       "    }\n",
       "</style>\n",
       "<table border=\"1\" class=\"dataframe\">\n",
       "  <thead>\n",
       "    <tr style=\"text-align: right;\">\n",
       "      <th></th>\n",
       "      <th>count</th>\n",
       "      <th>mean</th>\n",
       "      <th>std</th>\n",
       "      <th>min</th>\n",
       "      <th>25%</th>\n",
       "      <th>50%</th>\n",
       "      <th>75%</th>\n",
       "      <th>max</th>\n",
       "    </tr>\n",
       "  </thead>\n",
       "  <tbody>\n",
       "    <tr>\n",
       "      <th>control</th>\n",
       "      <td>40.0</td>\n",
       "      <td>1908.575</td>\n",
       "      <td>302.868329</td>\n",
       "      <td>1254.0</td>\n",
       "      <td>1685.75</td>\n",
       "      <td>1975.0</td>\n",
       "      <td>2120.00</td>\n",
       "      <td>2497.0</td>\n",
       "    </tr>\n",
       "    <tr>\n",
       "      <th>test</th>\n",
       "      <td>40.0</td>\n",
       "      <td>2514.925</td>\n",
       "      <td>282.707912</td>\n",
       "      <td>1940.0</td>\n",
       "      <td>2280.25</td>\n",
       "      <td>2544.5</td>\n",
       "      <td>2761.75</td>\n",
       "      <td>3171.0</td>\n",
       "    </tr>\n",
       "  </tbody>\n",
       "</table>\n",
       "</div>"
      ],
      "text/plain": [
       "         count      mean         std     min      25%     50%      75%     max\n",
       "control   40.0  1908.575  302.868329  1254.0  1685.75  1975.0  2120.00  2497.0\n",
       "test      40.0  2514.925  282.707912  1940.0  2280.25  2544.5  2761.75  3171.0"
      ]
     },
     "execution_count": 42,
     "metadata": {},
     "output_type": "execute_result"
    }
   ],
   "source": [
    "pd.DataFrame([c_df.Earning.describe(), t_df.Earning.describe()], index=['control', 'test'])"
   ]
  },
  {
   "cell_type": "code",
   "execution_count": 79,
   "id": "92c7a7a6",
   "metadata": {},
   "outputs": [
    {
     "data": {
      "image/png": "[encoded data removed]",
      "text/plain": [
       "<Figure size 640x480 with 1 Axes>"
      ]
     },
     "metadata": {},
     "output_type": "display_data"
    }
   ],
   "source": [
    "plt.hist([c_df.Earning, t_df.Earning], bins=20)\n",
    "plt.show()"
   ]
  },
  {
   "cell_type": "code",
   "execution_count": 33,
   "id": "0c8a8713",
   "metadata": {},
   "outputs": [
    {
     "data": {
      "image/png": "[encoded data removed]",
      "text/plain": [
       "<Figure size 640x480 with 1 Axes>"
      ]
     },
     "metadata": {},
     "output_type": "display_data"
    }
   ],
   "source": [
    "plt.boxplot([c_df.Earning, t_df.Earning], labels=['control', 'test'])\n",
    "plt.show()"
   ]
  },
  {
   "cell_type": "markdown",
   "id": "0501754d",
   "metadata": {},
   "source": [
    "Средний заработок тестовой группы значительно больше (максимальное значение контрольной группы почти равно среднему значению тестовой). Выбросов нет."
   ]
  },
  {
   "cell_type": "markdown",
   "id": "43beb13e",
   "metadata": {},
   "source": [
    "Также по минимальным значениям можно увидеть, что среди значений данных отсутствуют отрицательные и нулевые значения!"
   ]
  },
  {
   "cell_type": "markdown",
   "id": "3dcd1307",
   "metadata": {},
   "source": [
    "## A/B Тестирование"
   ]
  },
  {
   "cell_type": "markdown",
   "id": "35106b54",
   "metadata": {},
   "source": [
    "### CTR"
   ]
  },
  {
   "cell_type": "markdown",
   "id": "75567dea",
   "metadata": {},
   "source": [
    "Требуется узнать увеличиваются ли клики, для этого используем метрику CTR.                        \n",
    "Сформулируем гипотезы:                                      \n",
    "Н0: p1 - p2 <= 0 (Конверсия рекламы осталась такая же или уменьшилась)                           \n",
    "Н1: p1 - p2 > 0 (Конверсия рекламы увеличилась)                    \n",
    "Метрика конверсионная, поэтому используем z-тест для пропорций"
   ]
  },
  {
   "cell_type": "code",
   "execution_count": 120,
   "id": "e6b0b73b",
   "metadata": {},
   "outputs": [],
   "source": [
    "p1 = round(t_df.Click.sum() / t_df.Impression.sum(), 4)\n",
    "p2 = round(c_df.Click.sum() / c_df.Impression.sum(), 4)"
   ]
  },
  {
   "cell_type": "code",
   "execution_count": 121,
   "id": "d117e769",
   "metadata": {},
   "outputs": [
    {
     "name": "stdout",
     "output_type": "stream",
     "text": [
      "Конверсия рекламы в тестовой группе: 0.0329\n",
      "Конверсия рекламы в контрольной группе: 0.0501\n"
     ]
    }
   ],
   "source": [
    "print(f'Конверсия рекламы в тестовой группе: {p1}')\n",
    "print(f'Конверсия рекламы в контрольной группе: {p2}')"
   ]
  },
  {
   "cell_type": "code",
   "execution_count": 138,
   "id": "c0571b26",
   "metadata": {},
   "outputs": [],
   "source": [
    "z_score, p_score = sm.stats.proportions_ztest(count=np.array([p1, p2]), nobs=np.array([40, 40]), alternative='larger')"
   ]
  },
  {
   "cell_type": "code",
   "execution_count": 141,
   "id": "ef4a05a5",
   "metadata": {},
   "outputs": [
    {
     "data": {
      "text/plain": [
       "-0.05973306613641454"
      ]
     },
     "execution_count": 141,
     "metadata": {},
     "output_type": "execute_result"
    }
   ],
   "source": [
    "z_score"
   ]
  },
  {
   "cell_type": "code",
   "execution_count": 142,
   "id": "3c116a94",
   "metadata": {},
   "outputs": [
    {
     "data": {
      "text/plain": [
       "0.5238158821116153"
      ]
     },
     "execution_count": 142,
     "metadata": {},
     "output_type": "execute_result"
    }
   ],
   "source": [
    "p_score"
   ]
  },
  {
   "cell_type": "markdown",
   "id": "cb21d257",
   "metadata": {},
   "source": [
    "Значение p оказалось больше 0.05, поэтому не отвергаем нулевую гипотезу."
   ]
  },
  {
   "cell_type": "markdown",
   "id": "1c8e52b7",
   "metadata": {},
   "source": [
    "#### Тестирование с выбросами"
   ]
  },
  {
   "cell_type": "code",
   "execution_count": 112,
   "id": "b28dc8d9",
   "metadata": {},
   "outputs": [],
   "source": [
    "p1v = round(t1_df.Click.sum() / t1_df.Impression.sum(), 4)\n",
    "z_scorev, p_scorev = sm.stats.proportions_ztest(np.array([p1v, p2]), np.array([len(t1_df), len(c_df)]), alternative = 'larger')"
   ]
  },
  {
   "cell_type": "code",
   "execution_count": 113,
   "id": "8b524ff1",
   "metadata": {},
   "outputs": [
    {
     "data": {
      "text/plain": [
       "-0.055646318243214137"
      ]
     },
     "execution_count": 113,
     "metadata": {},
     "output_type": "execute_result"
    }
   ],
   "source": [
    "z_scorev"
   ]
  },
  {
   "cell_type": "code",
   "execution_count": 114,
   "id": "c8d138bd",
   "metadata": {},
   "outputs": [
    {
     "data": {
      "text/plain": [
       "0.5221882174890673"
      ]
     },
     "execution_count": 114,
     "metadata": {},
     "output_type": "execute_result"
    }
   ],
   "source": [
    "p_scorev"
   ]
  },
  {
   "cell_type": "markdown",
   "id": "8be873bd",
   "metadata": {},
   "source": [
    "Если отбросить выбросы, то в тестировании значительно ничего не меняется."
   ]
  },
  {
   "cell_type": "markdown",
   "id": "97043964",
   "metadata": {},
   "source": [
    "### CR"
   ]
  },
  {
   "cell_type": "markdown",
   "id": "f7c3405b",
   "metadata": {},
   "source": [
    "Требуется узнать увеличиваются ли заказы, для этого используем метрику CR.                        \n",
    "Сформулируем гипотезы:                                      \n",
    "Н0: p1 - p2 <= 0 (Конверсия заказов осталась такая же или уменьшилась)                           \n",
    "Н1: p1 - p2 > 0 (Конверсия заказов увеличилась)                    \n",
    "Метрика конверсионная, поэтому используем z-тест для пропорций"
   ]
  },
  {
   "cell_type": "code",
   "execution_count": 143,
   "id": "0b93f726",
   "metadata": {},
   "outputs": [],
   "source": [
    "p1 = round(t_df.Purchase.sum() / t_df.Click.sum(), 4)\n",
    "p2 = round(c_df.Purchase.sum() / c_df.Click.sum(), 4)"
   ]
  },
  {
   "cell_type": "code",
   "execution_count": 144,
   "id": "39c119cc",
   "metadata": {},
   "outputs": [],
   "source": [
    "z_score, p_score = sm.stats.proportions_ztest(np.array([p1, p2]), np.array([len(t_df), len(c_df)]), alternative = 'larger')"
   ]
  },
  {
   "cell_type": "code",
   "execution_count": 145,
   "id": "9ecfd854",
   "metadata": {},
   "outputs": [
    {
     "data": {
      "text/plain": [
       "0.07680490175037229"
      ]
     },
     "execution_count": 145,
     "metadata": {},
     "output_type": "execute_result"
    }
   ],
   "source": [
    "z_score"
   ]
  },
  {
   "cell_type": "code",
   "execution_count": 146,
   "id": "5cf84606",
   "metadata": {},
   "outputs": [
    {
     "data": {
      "text/plain": [
       "0.46938937561348254"
      ]
     },
     "execution_count": 146,
     "metadata": {},
     "output_type": "execute_result"
    }
   ],
   "source": [
    "p_score"
   ]
  },
  {
   "cell_type": "markdown",
   "id": "056117ab",
   "metadata": {},
   "source": [
    "Значение p также больше 0.05, поэтому не отвергаем нулевую гипотезу. Увеличения покупок к кликам не произошло."
   ]
  },
  {
   "cell_type": "code",
   "execution_count": null,
   "id": "70e9310d",
   "metadata": {},
   "outputs": [],
   "source": []
  }
 ],
 "metadata": {
  "kernelspec": {
   "display_name": "Python 3 (ipykernel)",
   "language": "python",
   "name": "python3"
  },
  "language_info": {
   "codemirror_mode": {
    "name": "ipython",
    "version": 3
   },
   "file_extension": ".py",
   "mimetype": "text/x-python",
   "name": "python",
   "nbconvert_exporter": "python",
   "pygments_lexer": "ipython3",
   "version": "3.7.16"
  }
 },
 "nbformat": 4,
 "nbformat_minor": 5
}
